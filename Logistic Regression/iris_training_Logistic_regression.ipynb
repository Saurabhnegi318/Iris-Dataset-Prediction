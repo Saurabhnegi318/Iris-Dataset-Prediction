{
 "cells": [
  {
   "cell_type": "code",
   "execution_count": 32,
   "metadata": {},
   "outputs": [
    {
     "name": "stdout",
     "output_type": "stream",
     "text": [
      "Predicted Value is :['2']\n",
      "Real Value is :['2']\n",
      "Accuracy :95.0\n"
     ]
    },
    {
     "name": "stderr",
     "output_type": "stream",
     "text": [
      "C:\\Users\\DEADPOOL\\Anaconda3\\lib\\site-packages\\sklearn\\linear_model\\logistic.py:433: FutureWarning: Default solver will be changed to 'lbfgs' in 0.22. Specify a solver to silence this warning.\n",
      "  FutureWarning)\n",
      "C:\\Users\\DEADPOOL\\Anaconda3\\lib\\site-packages\\sklearn\\utils\\validation.py:761: DataConversionWarning: A column-vector y was passed when a 1d array was expected. Please change the shape of y to (n_samples, ), for example using ravel().\n",
      "  y = column_or_1d(y, warn=True)\n",
      "C:\\Users\\DEADPOOL\\Anaconda3\\lib\\site-packages\\sklearn\\linear_model\\logistic.py:460: FutureWarning: Default multi_class will be changed to 'auto' in 0.22. Specify the multi_class option to silence this warning.\n",
      "  \"this warning.\", FutureWarning)\n"
     ]
    }
   ],
   "source": [
    "import numpy as np\n",
    "from numpy import genfromtxt\n",
    "from sklearn import linear_model\n",
    "\n",
    "file = genfromtxt(\"iris.data\",delimiter=\",\",dtype=\"str\")\n",
    "\n",
    "dic = {}\n",
    "count = 0\n",
    "for val in file:\n",
    "    if val[4] not in dic:\n",
    "        dic[val[4]] = count\n",
    "        count += 1\n",
    "\n",
    "for val in file:\n",
    "    val[4] = dic[val[4]]\n",
    "\n",
    "#print(file)   \n",
    "\n",
    "trainingSet = file[:130]\n",
    "testingSet = file[130:]\n",
    "\n",
    "#print(trainingSet.shape)\n",
    "#print(testSet.shape)\n",
    "trainingX = trainingSet[:,[0,1,2,3]]\n",
    "trainingX = trainingX.astype(float)\n",
    "trainingY = trainingSet[:,[4]]\n",
    "#print(trainingX)\n",
    "#print(trainingY)\n",
    "\n",
    "testingX = testingSet[:,[0,1,2,3]]\n",
    "testingX = testingX.astype(float)\n",
    "testingY = testingSet[:,[4]]\n",
    "#print(testingX)\n",
    "#print(testingY)\n",
    "\n",
    "lr = linear_model.LogisticRegression()\n",
    "lr.fit(trainingX,trainingY)\n",
    "\n",
    "print(\"Predicted Value is :\" +str(lr.predict([testingX[12]])))\n",
    "print(\"Real Value is :\" + str(testingY[12]))\n",
    "\n",
    "print(\"Accuracy :\" + str(lr.score(testingX,testingY) * 100))\n"
   ]
  },
  {
   "cell_type": "code",
   "execution_count": null,
   "metadata": {},
   "outputs": [],
   "source": []
  },
  {
   "cell_type": "code",
   "execution_count": null,
   "metadata": {},
   "outputs": [],
   "source": []
  }
 ],
 "metadata": {
  "kernelspec": {
   "display_name": "Python 3",
   "language": "python",
   "name": "python3"
  },
  "language_info": {
   "codemirror_mode": {
    "name": "ipython",
    "version": 3
   },
   "file_extension": ".py",
   "mimetype": "text/x-python",
   "name": "python",
   "nbconvert_exporter": "python",
   "pygments_lexer": "ipython3",
   "version": "3.7.3"
  }
 },
 "nbformat": 4,
 "nbformat_minor": 2
}
